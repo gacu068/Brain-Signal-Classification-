{
  "cells": [
    {
      "cell_type": "markdown",
      "metadata": {
        "id": "4hiUrTp2g31d"
      },
      "source": [
        "(optional)"
      ]
    },
    {
      "cell_type": "markdown",
      "metadata": {
        "id": "CQX9eCfIcRAn"
      },
      "source": [
        "# **HW5: Brain signal classification**\n",
        "In *HW 5*, you need to finish:\n",
        "\n",
        "1.  Model Implementation Part: Implement LSTM and EEGNet models to predict the label of each samples.\n",
        "\n",
        "2.  Model Competition Part: Implementing a model to reach better accuracy performance."
      ]
    },
    {
      "cell_type": "code",
      "execution_count": null,
      "metadata": {
        "id": "BKJDTLRvQrnY"
      },
      "outputs": [],
      "source": [
        "import numpy as np\n",
        "import os\n",
        "import math\n",
        "import csv\n",
        "import matplotlib.pyplot as plt\n",
        "# Import the packages you need here\n",
        "import tensorflow as tf\n",
        "from tensorflow import keras\n",
        "from tensorflow.keras import layers\n",
        "from sklearn.preprocessing import StandardScaler\n",
        "from keras.models import Sequential\n",
        "from keras.layers import Dense\n",
        "from keras.layers import LSTM\n",
        "from keras.layers import Dropout"
      ]
    },
    {
      "cell_type": "code",
      "execution_count": null,
      "metadata": {
        "id": "ZQQylnWHQ4yy"
      },
      "outputs": [],
      "source": [
        "data = np.load('data.npz')\n",
        "label = np.load('label.npz')"
      ]
    },
    {
      "cell_type": "code",
      "execution_count": null,
      "metadata": {
        "id": "3Ype-nIkQ-bf"
      },
      "outputs": [],
      "source": [
        "X_train = data['X_train']\n",
        "X_val = data['X_val']\n",
        "X_test = data['X_test']\n",
        "\n",
        "Y_train = label['Y_train'].astype(int)\n",
        "Y_val = label['Y_val'].astype(int)\n",
        "\n",
        "\n",
        "\n",
        "Y_train = np.eye(6)[Y_train]\n",
        "Y_val = np.eye(6)[Y_val]\n"
      ]
    },
    {
      "cell_type": "code",
      "execution_count": null,
      "metadata": {
        "colab": {
          "base_uri": "https://localhost:8080/"
        },
        "id": "xjPvKG_im7mV",
        "outputId": "44c5a7c5-f3d1-4a93-c069-f0a7b30da0cb"
      },
      "outputs": [
        {
          "output_type": "execute_result",
          "data": {
            "text/plain": [
              "((604, 22, 200), (152, 22, 200), (190, 22, 200))"
            ]
          },
          "metadata": {},
          "execution_count": 127
        }
      ],
      "source": [
        "X_train.shape, X_val.shape, X_test.shape"
      ]
    },
    {
      "cell_type": "code",
      "execution_count": null,
      "metadata": {
        "colab": {
          "base_uri": "https://localhost:8080/"
        },
        "id": "X7apA2_-lBjF",
        "outputId": "137f9321-930f-4c1d-c281-0d9ea9ab1599"
      },
      "outputs": [
        {
          "output_type": "execute_result",
          "data": {
            "text/plain": [
              "((604, 1, 6), (152, 1, 6))"
            ]
          },
          "metadata": {},
          "execution_count": 128
        }
      ],
      "source": [
        "Y_train.shape, Y_val.shape"
      ]
    },
    {
      "cell_type": "code",
      "execution_count": null,
      "metadata": {
        "colab": {
          "base_uri": "https://localhost:8080/"
        },
        "id": "eHacxLUiiwAF",
        "outputId": "86283ffa-db5b-4936-cf84-329a5025a55a"
      },
      "outputs": [
        {
          "output_type": "stream",
          "name": "stdout",
          "text": [
            "(604, 200, 22) (152, 200, 22) (190, 200, 22)\n",
            "(604, 6) (152, 6)\n"
          ]
        }
      ],
      "source": [
        "\n",
        "X_train = np.reshape(X_train,(X_train.shape[0],X_train.shape[2],-1))\n",
        "X_val = np.reshape(X_val,(X_val.shape[0],X_val.shape[2],-1))\n",
        "X_test = np.reshape(X_test,(X_test.shape[0],X_test.shape[2],-1))\n",
        "print(X_train.shape, X_val.shape, X_test.shape)\n",
        "\n",
        "Y_train = np.reshape(Y_train,(Y_train.shape[0],Y_train.shape[2]))\n",
        "Y_val = np.reshape(Y_val,(Y_val.shape[0],Y_val.shape[2]))\n",
        "print(Y_train.shape, Y_val.shape)"
      ]
    },
    {
      "cell_type": "markdown",
      "metadata": {
        "id": "diYYd3e7eopi"
      },
      "source": [
        "## Model Implementation Part"
      ]
    },
    {
      "cell_type": "markdown",
      "metadata": {
        "id": "97BpHWOAevWJ"
      },
      "source": [
        "### LSTM"
      ]
    },
    {
      "cell_type": "code",
      "execution_count": null,
      "metadata": {
        "id": "xxFGe6YRe7qn"
      },
      "outputs": [],
      "source": [
        "# Build your model here:\n",
        "model = keras.models.Sequential()\n",
        "model.add(layers.LSTM(units = 64, return_sequences = True, input_shape = (200, 22)))\n",
        "model.add(layers.Flatten())\n",
        "#model.add(layers.Dropout(0.1))\n",
        "#model.add(LSTM(units = 64, return_sequences = False, activation = 'relu'))\n",
        "#model.add(layers.TimeDistributed(Dense(1)))\n",
        "model.add(layers.Dense(32, activation='relu'))\n",
        "model.add(layers.Dense(6, activation='softmax'))\n",
        "\n",
        "metrics = [\"accuracy\"]"
      ]
    },
    {
      "cell_type": "code",
      "execution_count": null,
      "metadata": {
        "id": "U_4HAB9yiwAH",
        "outputId": "52de710c-cb3a-482e-acdc-618aa16fcb13",
        "colab": {
          "base_uri": "https://localhost:8080/"
        }
      },
      "outputs": [
        {
          "output_type": "stream",
          "name": "stdout",
          "text": [
            "Epoch 1/30\n",
            "19/19 [==============================] - 2s 40ms/step - loss: 0.6855 - accuracy: 0.7467 - val_loss: 0.2735 - val_accuracy: 0.9211\n",
            "Epoch 2/30\n",
            "19/19 [==============================] - 0s 14ms/step - loss: 0.0338 - accuracy: 0.9917 - val_loss: 0.1534 - val_accuracy: 0.9408\n",
            "Epoch 3/30\n",
            "19/19 [==============================] - 0s 14ms/step - loss: 0.0064 - accuracy: 1.0000 - val_loss: 0.1463 - val_accuracy: 0.9474\n",
            "Epoch 4/30\n",
            "19/19 [==============================] - 0s 14ms/step - loss: 0.0027 - accuracy: 1.0000 - val_loss: 0.1342 - val_accuracy: 0.9474\n",
            "Epoch 5/30\n",
            "19/19 [==============================] - 0s 11ms/step - loss: 0.0017 - accuracy: 1.0000 - val_loss: 0.1337 - val_accuracy: 0.9539\n",
            "Epoch 6/30\n",
            "19/19 [==============================] - 0s 14ms/step - loss: 0.0014 - accuracy: 1.0000 - val_loss: 0.1304 - val_accuracy: 0.9539\n",
            "Epoch 7/30\n",
            "19/19 [==============================] - 0s 11ms/step - loss: 0.0011 - accuracy: 1.0000 - val_loss: 0.1295 - val_accuracy: 0.9539\n",
            "Epoch 8/30\n",
            "19/19 [==============================] - 0s 11ms/step - loss: 9.7070e-04 - accuracy: 1.0000 - val_loss: 0.1290 - val_accuracy: 0.9605\n",
            "Epoch 9/30\n",
            "19/19 [==============================] - 0s 11ms/step - loss: 8.4921e-04 - accuracy: 1.0000 - val_loss: 0.1285 - val_accuracy: 0.9605\n",
            "Epoch 10/30\n",
            "19/19 [==============================] - 0s 12ms/step - loss: 7.5056e-04 - accuracy: 1.0000 - val_loss: 0.1279 - val_accuracy: 0.9605\n",
            "Epoch 11/30\n",
            "19/19 [==============================] - 0s 11ms/step - loss: 6.7066e-04 - accuracy: 1.0000 - val_loss: 0.1280 - val_accuracy: 0.9605\n",
            "Epoch 12/30\n",
            "19/19 [==============================] - 0s 11ms/step - loss: 6.0473e-04 - accuracy: 1.0000 - val_loss: 0.1266 - val_accuracy: 0.9605\n",
            "Epoch 13/30\n",
            "19/19 [==============================] - 0s 13ms/step - loss: 5.4467e-04 - accuracy: 1.0000 - val_loss: 0.1255 - val_accuracy: 0.9605\n",
            "Epoch 14/30\n",
            "19/19 [==============================] - 0s 11ms/step - loss: 4.9777e-04 - accuracy: 1.0000 - val_loss: 0.1251 - val_accuracy: 0.9605\n",
            "Epoch 15/30\n",
            "19/19 [==============================] - 0s 12ms/step - loss: 4.5718e-04 - accuracy: 1.0000 - val_loss: 0.1250 - val_accuracy: 0.9605\n",
            "Epoch 16/30\n",
            "19/19 [==============================] - 0s 11ms/step - loss: 4.1847e-04 - accuracy: 1.0000 - val_loss: 0.1248 - val_accuracy: 0.9605\n",
            "Epoch 17/30\n",
            "19/19 [==============================] - 0s 14ms/step - loss: 3.8609e-04 - accuracy: 1.0000 - val_loss: 0.1244 - val_accuracy: 0.9605\n",
            "Epoch 18/30\n",
            "19/19 [==============================] - 0s 11ms/step - loss: 3.5809e-04 - accuracy: 1.0000 - val_loss: 0.1235 - val_accuracy: 0.9605\n",
            "Epoch 19/30\n",
            "19/19 [==============================] - 0s 12ms/step - loss: 3.3265e-04 - accuracy: 1.0000 - val_loss: 0.1233 - val_accuracy: 0.9605\n",
            "Epoch 20/30\n",
            "19/19 [==============================] - 0s 13ms/step - loss: 3.0994e-04 - accuracy: 1.0000 - val_loss: 0.1227 - val_accuracy: 0.9605\n",
            "Epoch 21/30\n",
            "19/19 [==============================] - 0s 11ms/step - loss: 2.8961e-04 - accuracy: 1.0000 - val_loss: 0.1224 - val_accuracy: 0.9605\n",
            "Epoch 22/30\n",
            "19/19 [==============================] - 0s 13ms/step - loss: 2.7185e-04 - accuracy: 1.0000 - val_loss: 0.1223 - val_accuracy: 0.9605\n",
            "Epoch 23/30\n",
            "19/19 [==============================] - 0s 12ms/step - loss: 2.5552e-04 - accuracy: 1.0000 - val_loss: 0.1230 - val_accuracy: 0.9605\n",
            "Epoch 24/30\n",
            "19/19 [==============================] - 0s 11ms/step - loss: 2.3968e-04 - accuracy: 1.0000 - val_loss: 0.1222 - val_accuracy: 0.9605\n",
            "Epoch 25/30\n",
            "19/19 [==============================] - 0s 11ms/step - loss: 2.2561e-04 - accuracy: 1.0000 - val_loss: 0.1214 - val_accuracy: 0.9605\n",
            "Epoch 26/30\n",
            "19/19 [==============================] - 0s 11ms/step - loss: 2.1337e-04 - accuracy: 1.0000 - val_loss: 0.1215 - val_accuracy: 0.9605\n",
            "Epoch 27/30\n",
            "19/19 [==============================] - 0s 13ms/step - loss: 2.0174e-04 - accuracy: 1.0000 - val_loss: 0.1213 - val_accuracy: 0.9605\n",
            "Epoch 28/30\n",
            "19/19 [==============================] - 0s 12ms/step - loss: 1.9102e-04 - accuracy: 1.0000 - val_loss: 0.1212 - val_accuracy: 0.9605\n",
            "Epoch 29/30\n",
            "19/19 [==============================] - 0s 11ms/step - loss: 1.8163e-04 - accuracy: 1.0000 - val_loss: 0.1208 - val_accuracy: 0.9605\n",
            "Epoch 30/30\n",
            "19/19 [==============================] - 0s 12ms/step - loss: 1.7247e-04 - accuracy: 1.0000 - val_loss: 0.1210 - val_accuracy: 0.9605\n",
            "Model: \"sequential_15\"\n",
            "_________________________________________________________________\n",
            " Layer (type)                Output Shape              Param #   \n",
            "=================================================================\n",
            " lstm_6 (LSTM)               (None, 200, 64)           22272     \n",
            "                                                                 \n",
            " flatten_15 (Flatten)        (None, 12800)             0         \n",
            "                                                                 \n",
            " dense_21 (Dense)            (None, 32)                409632    \n",
            "                                                                 \n",
            " dense_22 (Dense)            (None, 6)                 198       \n",
            "                                                                 \n",
            "=================================================================\n",
            "Total params: 432,102\n",
            "Trainable params: 432,102\n",
            "Non-trainable params: 0\n",
            "_________________________________________________________________\n",
            "執行時間：9.328426 秒\n",
            "Model: \"sequential_15\"\n",
            "_________________________________________________________________\n",
            " Layer (type)                Output Shape              Param #   \n",
            "=================================================================\n",
            " lstm_6 (LSTM)               (None, 200, 64)           22272     \n",
            "                                                                 \n",
            " flatten_15 (Flatten)        (None, 12800)             0         \n",
            "                                                                 \n",
            " dense_21 (Dense)            (None, 32)                409632    \n",
            "                                                                 \n",
            " dense_22 (Dense)            (None, 6)                 198       \n",
            "                                                                 \n",
            "=================================================================\n",
            "Total params: 432,102\n",
            "Trainable params: 432,102\n",
            "Non-trainable params: 0\n",
            "_________________________________________________________________\n"
          ]
        }
      ],
      "source": [
        "# 引入 time 模組\n",
        "import time\n",
        "\n",
        "# 開始測量\n",
        "start = time.time()\n",
        "\n",
        "model.compile(loss=\"categorical_crossentropy\",\n",
        "              optimizer=\"adam\",\n",
        "              metrics=[\"accuracy\"])\n",
        "#model.fit(X_train, Y_train, epochs = 100, batch_size = 64)\n",
        "\n",
        "history = model.fit(X_train, Y_train, epochs=30, \n",
        "                    validation_data=(X_val, Y_val))\n",
        "model.summary()\n",
        "\n",
        "\n",
        "# 結束測量\n",
        "end = time.time()\n",
        "\n",
        "# 輸出結果\n",
        "print(\"執行時間：%f 秒\" % (end - start))\n",
        "model.summary()"
      ]
    },
    {
      "cell_type": "code",
      "execution_count": null,
      "metadata": {
        "id": "4-QIeIZViwAH",
        "outputId": "f644b1fa-61a0-4a6e-97f3-af7deebe72ee",
        "colab": {
          "base_uri": "https://localhost:8080/"
        }
      },
      "outputs": [
        {
          "output_type": "stream",
          "name": "stdout",
          "text": [
            "5/5 [==============================] - 0s 5ms/step\n",
            "4 [0. 0. 0. 0. 1. 0.]\n",
            "5 [0. 0. 0. 0. 0. 1.]\n",
            "1 [0. 1. 0. 0. 0. 0.]\n",
            "2 [0. 0. 1. 0. 0. 0.]\n",
            "3 [0. 0. 0. 1. 0. 0.]\n"
          ]
        }
      ],
      "source": [
        "#output = model.predict(X_val)\n",
        "\n",
        "    \n",
        "pred_test = model.predict(X_val)\n",
        "#print(pred_test)\n",
        "pred_test = np.argmax(pred_test, axis = 1)\n",
        "pred_test = pred_test.astype(int)\n",
        "\n",
        "for i in range(5):\n",
        "    print(pred_test[i],Y_val[i])"
      ]
    },
    {
      "cell_type": "code",
      "execution_count": null,
      "metadata": {
        "id": "ynaoXLcbiwAH",
        "outputId": "0f779b27-9809-4cc7-a925-5ca759584c23",
        "colab": {
          "base_uri": "https://localhost:8080/",
          "height": 300
        }
      },
      "outputs": [
        {
          "output_type": "execute_result",
          "data": {
            "text/plain": [
              "<matplotlib.legend.Legend at 0x7fde1c13b220>"
            ]
          },
          "metadata": {},
          "execution_count": 133
        },
        {
          "output_type": "display_data",
          "data": {
            "text/plain": [
              "<Figure size 432x288 with 1 Axes>"
            ],
            "image/png": "[encoded data removed]"
          },
          "metadata": {
            "needs_background": "light"
          }
        }
      ],
      "source": [
        "plt.plot(history.history['loss'], label='loss')\n",
        "plt.plot(history.history['val_loss'], label = 'val_loss')\n",
        "#plt.plot(history.history['loss'], label='loss')\n",
        "plt.xlabel('Epoch')\n",
        "plt.ylabel('loss')\n",
        "plt.ylim([0, 1])\n",
        "plt.legend(loc='lower right')"
      ]
    },
    {
      "cell_type": "code",
      "execution_count": null,
      "metadata": {
        "id": "sIXH_6BHjm6w",
        "outputId": "c3097bbb-30b6-4c27-80d3-e442a405f28c",
        "colab": {
          "base_uri": "https://localhost:8080/"
        }
      },
      "outputs": [
        {
          "output_type": "stream",
          "name": "stdout",
          "text": [
            "6/6 [==============================] - 0s 5ms/step\n"
          ]
        }
      ],
      "source": [
        "output = model.predict(X_test)\n",
        "    \n",
        "output = np.argmax(output, axis = 1)\n",
        "output = output.astype(int)\n",
        "output = np.reshape(output,(190,1))\n",
        "assert(output.shape == (190, 1))\n",
        "np.savetxt('lstm_output.csv', output, delimiter=\",\")"
      ]
    },
    {
      "cell_type": "markdown",
      "metadata": {
        "id": "xSGZPbDHrfOr"
      },
      "source": [
        "### EEGNet"
      ]
    },
    {
      "cell_type": "code",
      "execution_count": null,
      "metadata": {
        "id": "gj6tsfL7iwAI"
      },
      "outputs": [],
      "source": [
        "F1 = 10\n",
        "D = 20\n",
        "F2 = 10\n",
        "C = 22\n",
        "T = 200"
      ]
    },
    {
      "cell_type": "code",
      "execution_count": null,
      "metadata": {
        "id": "wTz6ZYNQiwAI"
      },
      "outputs": [],
      "source": [
        "X_train = np.reshape(X_train,(-1,1,22,200))\n",
        "X_val = np.reshape(X_val,(-1,1,22,200))\n",
        "X_test = np.reshape(X_test,(-1,1,22,200))"
      ]
    },
    {
      "cell_type": "code",
      "execution_count": null,
      "metadata": {
        "id": "OCUyBSH1hvqG",
        "colab": {
          "base_uri": "https://localhost:8080/"
        },
        "outputId": "7b7b1067-9ebb-4cce-fc9f-39234111937d"
      },
      "outputs": [
        {
          "output_type": "stream",
          "name": "stdout",
          "text": [
            "Model: \"sequential_16\"\n",
            "_________________________________________________________________\n",
            " Layer (type)                Output Shape              Param #   \n",
            "=================================================================\n",
            " conv2d_9 (Conv2D)           (None, 10, 22, 200)       640       \n",
            "                                                                 \n",
            " batch_normalization_27 (Bat  (None, 10, 22, 200)      800       \n",
            " chNormalization)                                                \n",
            "                                                                 \n",
            " depthwise_conv2d_9 (Depthwi  (None, 200, 1, 200)      4400      \n",
            " seConv2D)                                                       \n",
            "                                                                 \n",
            " batch_normalization_28 (Bat  (None, 200, 1, 200)      800       \n",
            " chNormalization)                                                \n",
            "                                                                 \n",
            " activation_18 (Activation)  (None, 200, 1, 200)       0         \n",
            "                                                                 \n",
            " average_pooling2d_18 (Avera  (None, 200, 1, 50)       0         \n",
            " gePooling2D)                                                    \n",
            "                                                                 \n",
            " dropout_18 (Dropout)        (None, 200, 1, 50)        0         \n",
            "                                                                 \n",
            " separable_conv2d_9 (Separab  (None, 10, 1, 50)        14800     \n",
            " leConv2D)                                                       \n",
            "                                                                 \n",
            " batch_normalization_29 (Bat  (None, 10, 1, 50)        200       \n",
            " chNormalization)                                                \n",
            "                                                                 \n",
            " activation_19 (Activation)  (None, 10, 1, 50)         0         \n",
            "                                                                 \n",
            " average_pooling2d_19 (Avera  (None, 10, 1, 6)         0         \n",
            " gePooling2D)                                                    \n",
            "                                                                 \n",
            " dropout_19 (Dropout)        (None, 10, 1, 6)          0         \n",
            "                                                                 \n",
            " flatten_16 (Flatten)        (None, 60)                0         \n",
            "                                                                 \n",
            " dense_23 (Dense)            (None, 6)                 366       \n",
            "                                                                 \n",
            "=================================================================\n",
            "Total params: 22,006\n",
            "Trainable params: 21,106\n",
            "Non-trainable params: 900\n",
            "_________________________________________________________________\n"
          ]
        }
      ],
      "source": [
        "# Build your model here:\n",
        "model = keras.models.Sequential()\n",
        "#model.add(layers.Input(shape = (200,22)))\n",
        "model.add(layers.Conv2D(F1, (1, 64), activation='linear',input_shape = (1,C,T) ,padding=\"same\",use_bias=False,data_format = \"channels_first\"))\n",
        "model.add(layers.BatchNormalization())\n",
        "model.add(layers.DepthwiseConv2D((C, 1),padding='valid', depth_multiplier = D, activation='linear', use_bias=False,data_format = \"channels_first\"))\n",
        "model.add(layers.BatchNormalization())\n",
        "model.add(layers.Activation(\"elu\"))\n",
        "model.add(layers.AveragePooling2D((1,4),data_format = \"channels_first\"))\n",
        "model.add(layers.Dropout(0.25))\n",
        "model.add(layers.SeparableConv2D(F2, (1, 64), activation='linear', padding=\"same\",use_bias=False,data_format = \"channels_first\"))\n",
        "model.add(layers.BatchNormalization())\n",
        "model.add(layers.Activation(\"elu\"))\n",
        "model.add(layers.AveragePooling2D((1,8),data_format = \"channels_first\"))\n",
        "model.add(layers.Dropout(0.25))\n",
        "model.add(layers.Flatten())\n",
        "model.add(layers.Dense(6, activation='softmax'))\n",
        "\n",
        "model.build()\n",
        "\n",
        "model.summary()"
      ]
    },
    {
      "cell_type": "code",
      "execution_count": null,
      "metadata": {
        "colab": {
          "base_uri": "https://localhost:8080/"
        },
        "id": "c2P8vZdbiwAJ",
        "outputId": "70daed70-0dea-4f3a-fd2b-726b9e670e11"
      },
      "outputs": [
        {
          "output_type": "stream",
          "name": "stdout",
          "text": [
            "Epoch 1/30\n",
            "19/19 [==============================] - 1s 18ms/step - loss: 0.9592 - accuracy: 0.6722 - val_loss: 1.4041 - val_accuracy: 0.9211\n",
            "Epoch 2/30\n",
            "19/19 [==============================] - 0s 10ms/step - loss: 0.3468 - accuracy: 0.9371 - val_loss: 1.2587 - val_accuracy: 0.9342\n",
            "Epoch 3/30\n",
            "19/19 [==============================] - 0s 10ms/step - loss: 0.2372 - accuracy: 0.9487 - val_loss: 1.1543 - val_accuracy: 0.9803\n",
            "Epoch 4/30\n",
            "19/19 [==============================] - 0s 10ms/step - loss: 0.1632 - accuracy: 0.9752 - val_loss: 1.0780 - val_accuracy: 0.9868\n",
            "Epoch 5/30\n",
            "19/19 [==============================] - 0s 9ms/step - loss: 0.1234 - accuracy: 0.9868 - val_loss: 0.9864 - val_accuracy: 0.9868\n",
            "Epoch 6/30\n",
            "19/19 [==============================] - 0s 10ms/step - loss: 0.0986 - accuracy: 0.9884 - val_loss: 0.8895 - val_accuracy: 0.9737\n",
            "Epoch 7/30\n",
            "19/19 [==============================] - 0s 10ms/step - loss: 0.0750 - accuracy: 0.9950 - val_loss: 0.7913 - val_accuracy: 0.9868\n",
            "Epoch 8/30\n",
            "19/19 [==============================] - 0s 10ms/step - loss: 0.0681 - accuracy: 0.9934 - val_loss: 0.6650 - val_accuracy: 0.9934\n",
            "Epoch 9/30\n",
            "19/19 [==============================] - 0s 10ms/step - loss: 0.0635 - accuracy: 0.9934 - val_loss: 0.5594 - val_accuracy: 0.9868\n",
            "Epoch 10/30\n",
            "19/19 [==============================] - 0s 10ms/step - loss: 0.0446 - accuracy: 0.9983 - val_loss: 0.4530 - val_accuracy: 0.9868\n",
            "Epoch 11/30\n",
            "19/19 [==============================] - 0s 10ms/step - loss: 0.0382 - accuracy: 1.0000 - val_loss: 0.3545 - val_accuracy: 0.9934\n",
            "Epoch 12/30\n",
            "19/19 [==============================] - 0s 10ms/step - loss: 0.0358 - accuracy: 0.9983 - val_loss: 0.3056 - val_accuracy: 0.9868\n",
            "Epoch 13/30\n",
            "19/19 [==============================] - 0s 9ms/step - loss: 0.0315 - accuracy: 1.0000 - val_loss: 0.2240 - val_accuracy: 0.9934\n",
            "Epoch 14/30\n",
            "19/19 [==============================] - 0s 10ms/step - loss: 0.0320 - accuracy: 0.9983 - val_loss: 0.1734 - val_accuracy: 0.9934\n",
            "Epoch 15/30\n",
            "19/19 [==============================] - 0s 10ms/step - loss: 0.0276 - accuracy: 1.0000 - val_loss: 0.1445 - val_accuracy: 0.9934\n",
            "Epoch 16/30\n",
            "19/19 [==============================] - 0s 11ms/step - loss: 0.0288 - accuracy: 0.9983 - val_loss: 0.1203 - val_accuracy: 0.9934\n",
            "Epoch 17/30\n",
            "19/19 [==============================] - 0s 10ms/step - loss: 0.0242 - accuracy: 1.0000 - val_loss: 0.0906 - val_accuracy: 0.9934\n",
            "Epoch 18/30\n",
            "19/19 [==============================] - 0s 10ms/step - loss: 0.0229 - accuracy: 1.0000 - val_loss: 0.0814 - val_accuracy: 0.9934\n",
            "Epoch 19/30\n",
            "19/19 [==============================] - 0s 10ms/step - loss: 0.0199 - accuracy: 1.0000 - val_loss: 0.0703 - val_accuracy: 0.9934\n",
            "Epoch 20/30\n",
            "19/19 [==============================] - 0s 10ms/step - loss: 0.0188 - accuracy: 1.0000 - val_loss: 0.0566 - val_accuracy: 0.9934\n",
            "Epoch 21/30\n",
            "19/19 [==============================] - 0s 12ms/step - loss: 0.0150 - accuracy: 1.0000 - val_loss: 0.0496 - val_accuracy: 0.9934\n",
            "Epoch 22/30\n",
            "19/19 [==============================] - 0s 10ms/step - loss: 0.0157 - accuracy: 1.0000 - val_loss: 0.0470 - val_accuracy: 0.9934\n",
            "Epoch 23/30\n",
            "19/19 [==============================] - 0s 10ms/step - loss: 0.0164 - accuracy: 1.0000 - val_loss: 0.0524 - val_accuracy: 0.9934\n",
            "Epoch 24/30\n",
            "19/19 [==============================] - 0s 9ms/step - loss: 0.0138 - accuracy: 1.0000 - val_loss: 0.0450 - val_accuracy: 0.9934\n",
            "Epoch 25/30\n",
            "19/19 [==============================] - 0s 11ms/step - loss: 0.0120 - accuracy: 1.0000 - val_loss: 0.0386 - val_accuracy: 0.9934\n",
            "Epoch 26/30\n",
            "19/19 [==============================] - 0s 10ms/step - loss: 0.0131 - accuracy: 1.0000 - val_loss: 0.0376 - val_accuracy: 0.9934\n",
            "Epoch 27/30\n",
            "19/19 [==============================] - 0s 10ms/step - loss: 0.0098 - accuracy: 1.0000 - val_loss: 0.0385 - val_accuracy: 0.9934\n",
            "Epoch 28/30\n",
            "19/19 [==============================] - 0s 10ms/step - loss: 0.0122 - accuracy: 0.9983 - val_loss: 0.0270 - val_accuracy: 0.9934\n",
            "Epoch 29/30\n",
            "19/19 [==============================] - 0s 10ms/step - loss: 0.0096 - accuracy: 1.0000 - val_loss: 0.0325 - val_accuracy: 0.9934\n",
            "Epoch 30/30\n",
            "19/19 [==============================] - 0s 10ms/step - loss: 0.0094 - accuracy: 0.9983 - val_loss: 0.0359 - val_accuracy: 0.9934\n",
            "執行時間：10.860496 秒\n",
            "Model: \"sequential_16\"\n",
            "_________________________________________________________________\n",
            " Layer (type)                Output Shape              Param #   \n",
            "=================================================================\n",
            " conv2d_9 (Conv2D)           (None, 10, 22, 200)       640       \n",
            "                                                                 \n",
            " batch_normalization_27 (Bat  (None, 10, 22, 200)      800       \n",
            " chNormalization)                                                \n",
            "                                                                 \n",
            " depthwise_conv2d_9 (Depthwi  (None, 200, 1, 200)      4400      \n",
            " seConv2D)                                                       \n",
            "                                                                 \n",
            " batch_normalization_28 (Bat  (None, 200, 1, 200)      800       \n",
            " chNormalization)                                                \n",
            "                                                                 \n",
            " activation_18 (Activation)  (None, 200, 1, 200)       0         \n",
            "                                                                 \n",
            " average_pooling2d_18 (Avera  (None, 200, 1, 50)       0         \n",
            " gePooling2D)                                                    \n",
            "                                                                 \n",
            " dropout_18 (Dropout)        (None, 200, 1, 50)        0         \n",
            "                                                                 \n",
            " separable_conv2d_9 (Separab  (None, 10, 1, 50)        14800     \n",
            " leConv2D)                                                       \n",
            "                                                                 \n",
            " batch_normalization_29 (Bat  (None, 10, 1, 50)        200       \n",
            " chNormalization)                                                \n",
            "                                                                 \n",
            " activation_19 (Activation)  (None, 10, 1, 50)         0         \n",
            "                                                                 \n",
            " average_pooling2d_19 (Avera  (None, 10, 1, 6)         0         \n",
            " gePooling2D)                                                    \n",
            "                                                                 \n",
            " dropout_19 (Dropout)        (None, 10, 1, 6)          0         \n",
            "                                                                 \n",
            " flatten_16 (Flatten)        (None, 60)                0         \n",
            "                                                                 \n",
            " dense_23 (Dense)            (None, 6)                 366       \n",
            "                                                                 \n",
            "=================================================================\n",
            "Total params: 22,006\n",
            "Trainable params: 21,106\n",
            "Non-trainable params: 900\n",
            "_________________________________________________________________\n"
          ]
        }
      ],
      "source": [
        "# 引入 time 模組\n",
        "import time\n",
        "\n",
        "# 開始測量\n",
        "start = time.time()\n",
        "\n",
        "model.compile(loss=\"categorical_crossentropy\",\n",
        "              optimizer=\"adam\",\n",
        "              metrics=[\"accuracy\"])\n",
        "#model.fit(X_train, Y_train, epochs = 100, batch_size = 64)\n",
        "\n",
        "history = model.fit(X_train, Y_train, epochs=30, \n",
        "                    validation_data=(X_val, Y_val))\n",
        "\n",
        "\n",
        "# 結束測量\n",
        "end = time.time()\n",
        "\n",
        "# 輸出結果\n",
        "print(\"執行時間：%f 秒\" % (end - start))\n",
        "model.summary()"
      ]
    },
    {
      "cell_type": "code",
      "source": [
        "plt.plot(history.history['loss'], label='loss')\n",
        "plt.plot(history.history['val_loss'], label = 'val_loss')\n",
        "#plt.plot(history.history['loss'], label='loss')\n",
        "plt.xlabel('Epoch')\n",
        "plt.ylabel('loss')\n",
        "plt.ylim([0, 1])\n",
        "plt.legend(loc='lower right')"
      ],
      "metadata": {
        "colab": {
          "base_uri": "https://localhost:8080/",
          "height": 300
        },
        "id": "odX1IcPHLoIG",
        "outputId": "92c390aa-bbbb-4175-ffb8-dc2d41426bd1"
      },
      "execution_count": null,
      "outputs": [
        {
          "output_type": "execute_result",
          "data": {
            "text/plain": [
              "<matplotlib.legend.Legend at 0x7fde7072cfd0>"
            ]
          },
          "metadata": {},
          "execution_count": 139
        },
        {
          "output_type": "display_data",
          "data": {
            "text/plain": [
              "<Figure size 432x288 with 1 Axes>"
            ],
            "image/png": "[encoded data removed]"
          },
          "metadata": {
            "needs_background": "light"
          }
        }
      ]
    },
    {
      "cell_type": "code",
      "execution_count": null,
      "metadata": {
        "id": "Ge8jZUU8gve3",
        "colab": {
          "base_uri": "https://localhost:8080/"
        },
        "outputId": "52b63967-c5a7-4e23-f264-fdbadc07159d"
      },
      "outputs": [
        {
          "output_type": "stream",
          "name": "stdout",
          "text": [
            "6/6 [==============================] - 0s 3ms/step\n"
          ]
        }
      ],
      "source": [
        "output = model.predict(X_test)\n",
        "    \n",
        "output = np.argmax(output, axis = 1)\n",
        "output = output.astype(int)\n",
        "output = np.reshape(output,(190,1))\n",
        "assert(output.shape == (190, 1))\n",
        "np.savetxt('eegnet_output.csv', output, delimiter=\",\")"
      ]
    },
    {
      "cell_type": "markdown",
      "metadata": {
        "id": "qnHnQ_yVerBo"
      },
      "source": [
        "## Model Competition Part"
      ]
    },
    {
      "cell_type": "code",
      "execution_count": null,
      "metadata": {
        "id": "zlhO90b9iB_-"
      },
      "outputs": [],
      "source": [
        "# Build your model here:\n"
      ]
    },
    {
      "cell_type": "code",
      "execution_count": null,
      "metadata": {
        "id": "m097nvkXiIqY",
        "colab": {
          "base_uri": "https://localhost:8080/"
        },
        "outputId": "e1d67861-9fec-40e7-c69b-e4c81efbfce9"
      },
      "outputs": [
        {
          "output_type": "stream",
          "name": "stdout",
          "text": [
            "6/6 [==============================] - 0s 3ms/step\n"
          ]
        }
      ],
      "source": [
        "output = model.predict(X_test)\n",
        "    \n",
        "output = np.argmax(output, axis = 1)\n",
        "output = output.astype(int)\n",
        "output = np.reshape(output,(190,1))\n",
        "assert(output.shape == (190, 1))\n",
        "np.savetxt('competition_output.csv', output, delimiter=\",\")"
      ]
    }
  ],
  "metadata": {
    "accelerator": "GPU",
    "colab": {
      "provenance": []
    },
    "gpuClass": "standard",
    "kernelspec": {
      "display_name": "Python 3 (ipykernel)",
      "language": "python",
      "name": "python3"
    },
    "language_info": {
      "codemirror_mode": {
        "name": "ipython",
        "version": 3
      },
      "file_extension": ".py",
      "mimetype": "text/x-python",
      "name": "python",
      "nbconvert_exporter": "python",
      "pygments_lexer": "ipython3",
      "version": "3.9.13"
    }
  },
  "nbformat": 4,
  "nbformat_minor": 0
}